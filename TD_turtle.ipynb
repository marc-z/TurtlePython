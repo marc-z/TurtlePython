{
 "cells": [
  {
   "cell_type": "markdown",
   "metadata": {},
   "source": [
    "# Introduction"
   ]
  },
  {
   "cell_type": "code",
   "execution_count": 20,
   "metadata": {},
   "outputs": [],
   "source": [
    "from tortue import *"
   ]
  },
  {
   "cell_type": "code",
   "execution_count": 21,
   "metadata": {},
   "outputs": [
    {
     "data": {
      "application/vnd.jupyter.widget-view+json": {
       "model_id": "c4d0a0046e014872a1bca7d43d186671",
       "version_major": 2,
       "version_minor": 0
      },
      "text/plain": [
       "Turtle()"
      ]
     },
     "metadata": {},
     "output_type": "display_data"
    }
   ],
   "source": [
    "ouvre_tableau(500,730)"
   ]
  },
  {
   "cell_type": "code",
   "execution_count": 22,
   "metadata": {},
   "outputs": [],
   "source": [
    "def polygone(taille, cotes):\n",
    "    for x in range(cotes):\n",
    "        avance(taille)\n",
    "        tourne(360/cotes)"
   ]
  },
  {
   "cell_type": "code",
   "execution_count": 26,
   "metadata": {},
   "outputs": [],
   "source": [
    "def rosace_coloree(taille=150, nb_cotes=5):\n",
    "    r,b,v = 255,0,0\n",
    "    increment = 255//36\n",
    "    for i in range(36):\n",
    "        couleur(r,v,b)\n",
    "        polygone(taille,nb_cotes)\n",
    "        tourne(10)\n",
    "        r = max(0, r - increment)\n",
    "        b = min(255, b + increment)"
   ]
  },
  {
   "cell_type": "code",
   "execution_count": 27,
   "metadata": {},
   "outputs": [],
   "source": [
    "def fractal(taille, niveau):\n",
    "    if niveau == 0:\n",
    "        avance(taille)\n",
    "    else:\n",
    "        fractal(taille//3, niveau-1)\n",
    "        tourne(60)\n",
    "        fractal(taille//3, niveau-1)\n",
    "        tourne(-120)\n",
    "        fractal(taille//3, niveau-1)\n",
    "        tourne(60)\n",
    "        fractal(taille//3, niveau-1)"
   ]
  },
  {
   "cell_type": "code",
   "execution_count": 28,
   "metadata": {},
   "outputs": [],
   "source": [
    "efface()\n",
    "rosace_coloree()\n",
    "efface()\n",
    "couleur(100,30,200)\n",
    "va(200,-365)\n",
    "fractal(3**6,4)"
   ]
  },
  {
   "cell_type": "code",
   "execution_count": null,
   "metadata": {},
   "outputs": [],
   "source": []
  }
 ],
 "metadata": {
  "kernelspec": {
   "display_name": "Python 3",
   "language": "python",
   "name": "python3"
  },
  "language_info": {
   "codemirror_mode": {
    "name": "ipython",
    "version": 3
   },
   "file_extension": ".py",
   "mimetype": "text/x-python",
   "name": "python",
   "nbconvert_exporter": "python",
   "pygments_lexer": "ipython3",
   "version": "3.8.5"
  }
 },
 "nbformat": 4,
 "nbformat_minor": 4
}
